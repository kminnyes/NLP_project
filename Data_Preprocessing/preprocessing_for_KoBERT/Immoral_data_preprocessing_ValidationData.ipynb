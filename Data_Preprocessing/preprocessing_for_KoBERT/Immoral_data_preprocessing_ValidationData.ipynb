{
  "nbformat": 4,
  "nbformat_minor": 0,
  "metadata": {
    "colab": {
      "provenance": [],
      "gpuType": "T4"
    },
    "kernelspec": {
      "name": "python3",
      "display_name": "Python 3"
    },
    "language_info": {
      "name": "python"
    },
    "accelerator": "GPU"
  },
  "cells": [
    {
      "cell_type": "code",
      "execution_count": null,
      "metadata": {
        "id": "SwclF0Rd7Psb"
      },
      "outputs": [],
      "source": [
        "from google.colab import drive\n",
        "import json\n",
        "import re"
      ]
    },
    {
      "cell_type": "code",
      "source": [
        "# 구글 드라이브 마운트\n",
        "drive.mount('/content/drive')"
      ],
      "metadata": {
        "id": "iw1qcnmo7ocS"
      },
      "execution_count": null,
      "outputs": []
    },
    {
      "cell_type": "code",
      "source": [
        "!ls /content/drive/MyDrive/immoral_intensity_data/Validation/"
      ],
      "metadata": {
        "id": "NOhkUqUt7qU-"
      },
      "execution_count": null,
      "outputs": []
    },
    {
      "cell_type": "code",
      "source": [
        "validation_file_path = \"/content/drive/MyDrive/immoral_intensity_data/Validation/talksets-train-4.json\"\n",
        "validation_output_path = \"/content/drive/MyDrive/processed_data_immoral/Validation/processed_validation_data.json\""
      ],
      "metadata": {
        "id": "Wg2UjXTR7xJJ"
      },
      "execution_count": null,
      "outputs": []
    },
    {
      "cell_type": "code",
      "source": [
        "# 텍스트 전처리(불용어 제거)\n",
        "def preprocess_text(text):\n",
        "    text = re.sub(r\"[ㅋㅎㅠㅜ]+\", \"\", text)\n",
        "    if re.search(r\"[#@]\", text):\n",
        "        return None\n",
        "    return text.strip()"
      ],
      "metadata": {
        "id": "VeJXcVE-8we9"
      },
      "execution_count": null,
      "outputs": []
    },
    {
      "cell_type": "code",
      "source": [
        "with open(validation_file_path, \"r\", encoding=\"utf-8\") as file:\n",
        "    data = json.load(file)\n",
        "    print(\"Validation 데이터 파일의 구조:\")\n",
        "    print(json.dumps(data[0], indent=4, ensure_ascii=False))"
      ],
      "metadata": {
        "id": "285B_gjK80PV"
      },
      "execution_count": null,
      "outputs": []
    },
    {
      "cell_type": "code",
      "source": [
        "# JSON 파일 로드\n",
        "all_sentences = []\n",
        "\n",
        "with open(validation_file_path, \"r\", encoding=\"utf-8\") as file:\n",
        "    data = json.load(file)\n",
        "    if isinstance(data, list):\n",
        "        all_sentences = data\n",
        "    elif isinstance(data, dict) and \"sentences\" in data:\n",
        "        all_sentences = data[\"sentences\"]\n",
        "\n",
        "print(f\"총 로드된 Validation 데이터 개수: {len(all_sentences)}\")"
      ],
      "metadata": {
        "id": "F-SOzVx783Ru"
      },
      "execution_count": null,
      "outputs": []
    },
    {
      "cell_type": "code",
      "source": [
        "# 전처리 및 형태 변환\n",
        "processed_data = []\n",
        "\n",
        "for item in all_sentences:\n",
        "    if \"sentences\" not in item:\n",
        "        continue\n",
        "\n",
        "    for sentence in item[\"sentences\"]:\n",
        "        if \"text\" not in sentence or \"is_immoral\" not in sentence or \"intensity\" not in sentence or \"types\" not in sentence:\n",
        "            continue\n",
        "\n",
        "        cleaned_text = preprocess_text(sentence[\"text\"])\n",
        "        if cleaned_text is None:\n",
        "            continue\n",
        "\n",
        "        # 필요한 데이터만 추출\n",
        "        processed_item = {\n",
        "            \"text\": cleaned_text,\n",
        "            \"is_immoral\": sentence[\"is_immoral\"],\n",
        "            \"intensity\": sentence[\"intensity\"],\n",
        "            \"types\": sentence[\"types\"] if sentence[\"types\"] else []\n",
        "        }\n",
        "        processed_data.append(processed_item)\n",
        "\n",
        "print(f\"전처리된 Validation 데이터 개수: {len(processed_data)}\")"
      ],
      "metadata": {
        "id": "TKRgVJ-69UNa"
      },
      "execution_count": null,
      "outputs": []
    },
    {
      "cell_type": "code",
      "source": [
        "if len(processed_data) > 0:\n",
        "    print(\"전처리된 Validation 데이터 첫 번째 항목:\")\n",
        "    print(json.dumps(processed_data[0], indent=4, ensure_ascii=False))\n",
        "else:\n",
        "    print(\"전처리된 데이터가 비어 있습니다!\")"
      ],
      "metadata": {
        "id": "DMWhFzKp9ai4"
      },
      "execution_count": null,
      "outputs": []
    },
    {
      "cell_type": "code",
      "source": [
        "# 저장\n",
        "with open(validation_output_path, \"w\", encoding=\"utf-8\") as file:\n",
        "    json.dump(processed_data, file, ensure_ascii=False, indent=4)\n",
        "\n",
        "print(f\"전처리된 Validation 데이터가 저장되었습니다: {validation_output_path}\")"
      ],
      "metadata": {
        "id": "lojKTXZj9hbU"
      },
      "execution_count": null,
      "outputs": []
    },
    {
      "cell_type": "code",
      "source": [],
      "metadata": {
        "id": "QxMUtWCY9yej"
      },
      "execution_count": null,
      "outputs": []
    }
  ]
}