{
  "nbformat": 4,
  "nbformat_minor": 0,
  "metadata": {
    "colab": {
      "provenance": [],
      "gpuType": "T4"
    },
    "kernelspec": {
      "name": "python3",
      "display_name": "Python 3"
    },
    "language_info": {
      "name": "python"
    },
    "accelerator": "GPU"
  },
  "cells": [
    {
      "cell_type": "code",
      "execution_count": null,
      "metadata": {
        "id": "h9xNUsmodQOl"
      },
      "outputs": [],
      "source": [
        "from google.colab import drive\n",
        "import json\n",
        "import re"
      ]
    },
    {
      "cell_type": "code",
      "source": [
        "# 구글 드라이브 마운트\n",
        "drive.mount('/content/drive')"
      ],
      "metadata": {
        "id": "-v_bp7-qd4nV"
      },
      "execution_count": null,
      "outputs": []
    },
    {
      "cell_type": "code",
      "source": [
        "!ls /content/drive/MyDrive/immoral_intensity_data/Training/"
      ],
      "metadata": {
        "id": "wK-mXUT7eLq-"
      },
      "execution_count": null,
      "outputs": []
    },
    {
      "cell_type": "code",
      "source": [
        "file_paths = [\n",
        "    \"/content/drive/MyDrive/immoral_intensity_data/Training/talksets-train-1.json\",\n",
        "    \"/content/drive/MyDrive/immoral_intensity_data/Training/talksets-train-2.json\",\n",
        "    \"/content/drive/MyDrive/immoral_intensity_data/Training/talksets-train-3.json\"\n",
        "]"
      ],
      "metadata": {
        "id": "ECebKsbFhHN_"
      },
      "execution_count": null,
      "outputs": []
    },
    {
      "cell_type": "code",
      "source": [
        "# 텍스트 전처리(불용어 제거)\n",
        "def preprocess_text(text):\n",
        "  text = re.sub(r\"[ㅋㅎㅠㅜ]+\", \"\", text)\n",
        "  if re.search(r\"[#@]\", text):\n",
        "    return None\n",
        "  return text.strip()"
      ],
      "metadata": {
        "id": "hEIvcLiFlvni"
      },
      "execution_count": null,
      "outputs": []
    },
    {
      "cell_type": "code",
      "source": [
        "# JSON 파일 구조 확인\n",
        "with open(file_paths[0], \"r\", encoding=\"utf-8\") as file:\n",
        "    data = json.load(file)\n",
        "    print(data)\n"
      ],
      "metadata": {
        "id": "fuiSE7xHmUaN"
      },
      "execution_count": null,
      "outputs": []
    },
    {
      "cell_type": "code",
      "source": [
        "# JSON 파일 로드 및 병합\n",
        "all_sentences = []\n",
        "\n",
        "for file_path in file_paths:\n",
        "    with open(file_path, \"r\", encoding=\"utf-8\") as file:\n",
        "        data = json.load(file)\n",
        "        if isinstance(data, list):\n",
        "            all_sentences.extend(data)\n",
        "        elif isinstance(data, dict) and \"sentences\" in data:\n",
        "            all_sentences.extend(data[\"sentences\"])\n",
        "\n",
        "print(f\"총 로드된 데이터 개수: {len(all_sentences)}\")"
      ],
      "metadata": {
        "id": "_A-3IiJfnMbW"
      },
      "execution_count": null,
      "outputs": []
    },
    {
      "cell_type": "code",
      "source": [
        "print(all_sentences[0])"
      ],
      "metadata": {
        "id": "Zv8-wXkD56qF"
      },
      "execution_count": null,
      "outputs": []
    },
    {
      "cell_type": "code",
      "source": [
        "# 전처리 및 형태 변환\n",
        "processed_data = []\n",
        "\n",
        "for item in all_sentences:\n",
        "    if \"sentences\" not in item:\n",
        "        continue\n",
        "\n",
        "    for sentence in item[\"sentences\"]:\n",
        "        if \"text\" not in sentence or \"is_immoral\" not in sentence or \"intensity\" not in sentence or \"types\" not in sentence:\n",
        "            continue\n",
        "\n",
        "        cleaned_text = preprocess_text(sentence[\"text\"])\n",
        "\n",
        "        if cleaned_text is None:\n",
        "            continue\n",
        "\n",
        "        # 필요한 데이터만 추출\n",
        "        processed_item = {\n",
        "            \"text\": cleaned_text,\n",
        "            \"is_immoral\": sentence[\"is_immoral\"],\n",
        "            \"intensity\": sentence[\"intensity\"],\n",
        "            \"types\": sentence[\"types\"] if sentence[\"types\"] else []\n",
        "        }\n",
        "        processed_data.append(processed_item)\n",
        "\n",
        "print(f\"전처리된 데이터 개수: {len(processed_data)}\")"
      ],
      "metadata": {
        "id": "MtUecRMApI3W"
      },
      "execution_count": null,
      "outputs": []
    },
    {
      "cell_type": "code",
      "source": [
        "# 첫 번째 항목 출력\n",
        "if len(processed_data) > 0:\n",
        "    print(\"첫 번째 항목:\")\n",
        "    print(json.dumps(processed_data[0], indent=4, ensure_ascii=False))\n",
        "else:\n",
        "    print(\"processed_data가 비어 있습니다. 데이터를 확인하세요!\")"
      ],
      "metadata": {
        "id": "bhq5e1SSqokv"
      },
      "execution_count": null,
      "outputs": []
    },
    {
      "cell_type": "code",
      "source": [
        "# 변환된 데이터 저장\n",
        "output_path = \"/content/drive/MyDrive/processed_data_immoral/Training/processed_training_data.json\"\n",
        "\n",
        "with open(output_path, \"w\", encoding=\"utf-8\") as file:\n",
        "    json.dump(processed_data, file, ensure_ascii=False, indent=4)\n",
        "\n",
        "print(f\"전처리 및 병합된 데이터가 저장되었습니다: {output_path}\")"
      ],
      "metadata": {
        "id": "JEjmSiFnsS3-"
      },
      "execution_count": null,
      "outputs": []
    },
    {
      "cell_type": "code",
      "source": [],
      "metadata": {
        "id": "KxlaV2jPuOax"
      },
      "execution_count": null,
      "outputs": []
    }
  ]
}